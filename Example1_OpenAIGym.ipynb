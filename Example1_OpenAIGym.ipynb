{
 "cells": [
  {
   "cell_type": "markdown",
   "metadata": {},
   "source": [
    "# Getting Started with Gym"
   ]
  },
  {
   "cell_type": "markdown",
   "metadata": {},
   "source": [
    "The **gym** library is a collection of test problems — _environments_ — that can be used to work out reinforcement learning algorithms. These environments have a shared interface, allowing you to write general algorithms.\n",
    "\n",
    "To install gym, just run on your Terminal\n",
    "\n",
    "```\n",
    "pip install gym\n",
    "```"
   ]
  },
  {
   "cell_type": "markdown",
   "metadata": {},
   "source": [
    "Open AI Gym is an implementation of the classic “agent-environment loop”. Each timestep, the agent chooses an _action_, and the environment returns an _observation_ and a _reward_.\n",
    "\n",
    "<img src=\"images/env-loop.PNG\">\n"
   ]
  },
  {
   "cell_type": "markdown",
   "metadata": {},
   "source": [
    "### Environments, actions and observations"
   ]
  },
  {
   "cell_type": "markdown",
   "metadata": {},
   "source": [
    "Load the environment with ```gym```. \n",
    "\n",
    "This will run an instance of the the selected environment for some number of timesteps, rendering the environment at each step. In teh following example you should see a window pop up rendering the classic ```cart-pole``` problem with a random action."
   ]
  },
  {
   "cell_type": "code",
   "execution_count": 18,
   "metadata": {},
   "outputs": [],
   "source": [
    "import gym\n",
    "env = gym.make('CartPole-v0')\n",
    "env.reset()\n",
    "for t in range(100):\n",
    "    env.render()\n",
    "    action = env.action_space.sample()# take a random action\n",
    "    env.step(action)\n",
    "env.close()"
   ]
  },
  {
   "cell_type": "markdown",
   "metadata": {},
   "source": [
    " The functions to explore the **environment** object are:\n",
    "\n",
    "- ```env.observation_space```\n",
    "- ```env.action_space ```\n",
    "- ```env.reset()```: reset environment to initial state, return first observation\n",
    "- ```env.render()```: show current environment state (a more colorful version :) )\n",
    "- ```env.step(action)```: commit action and return (new observation, reward, is done, info)"
   ]
  },
  {
   "cell_type": "markdown",
   "metadata": {},
   "source": [
    "### Observations"
   ]
  },
  {
   "cell_type": "markdown",
   "metadata": {},
   "source": [
    "The environment’s ```step``` function returns four values:\n",
    "\n",
    "* ```observation``` (object): an environment-specific object representing your observation of the environment. For example, pixel data from a camera, joint angles and joint velocities of a robot, or the board state in a board game.\n",
    "* ```reward``` (float): amount of reward achieved by the previous action. The scale varies between environments, but the goal is always to increase your total reward.\n",
    "* ```done``` (boolean): whether it’s time to reset the environment again. Most (but not all) tasks are divided up into well-defined episodes, and done being True indicates the episode has terminated. (For example, perhaps the pole tipped too far, or you lost your last life.)\n",
    "* ```info``` (dict): diagnostic information useful for debugging. It can sometimes be useful for learning (for example, it might contain the raw probabilities behind the environment’s last state change). However, official evaluations of your agent are not allowed to use this for learning.\n"
   ]
  },
  {
   "cell_type": "markdown",
   "metadata": {},
   "source": [
    "### Actions"
   ]
  },
  {
   "cell_type": "markdown",
   "metadata": {},
   "source": [
    "Every environment comes with an ```action_space``` and an ```observation_space```. These attributes are of type ```Space```, and they describe the format of valid **actions** and **observations**:\n",
    "The ```Discrete``` space allows a fixed range of non-negative numbers.\n",
    "The ```Box``` space represents an n-dimensional box"
   ]
  },
  {
   "cell_type": "markdown",
   "metadata": {},
   "source": [
    "## Example: CartPole\n",
    "\n",
    "See more in https://towardsdatascience.com/reinforcement-learning-concept-on-cart-pole-with-dqn-799105ca670\n",
    "\n",
    "![CartPole](https://gym.openai.com/videos/2019-10-21--mqt8Qj1mwo/CartPole-v1/poster.jpg)\n",
    "\n",
    "The pendulum starts upright, and the goal is to prevent it from falling over. A reward of +1 is provided for every timestep that the pole remains upright. The episode ends when the pole is more than 15 degrees from vertical, or the cart moves more than 2.4 units from the center.\n",
    "\n",
    "![image.png](data:image/png;base64,iVBORw0KGgoAAAANSUhEUgAAAa0AAAEVCAIAAADcrS14AAAAA3NCSVQICAjb4U/gAAAgAElEQVR4Xu29a1hT17r3Pfd77SvzS2e+EJ7nbeJzLQJbE2gJaSWw5VQDWFA0KActhVYWKhQPFRXBAwcRPHBQQaoUqxQVSimKgicsAi5OXRzcC8LeknQ/Eva7TbyeTfiwM/vhmfmy3jGTAAlniIEE7tFclcw5Dvf9G2P+57jHmEn+4e9//zsGCQgAASCwign8P0vge+spn7UubmtddpYOLUFrS9QE9TTxI9opt7gHmiVqEpoBAkDAMgT+0ZxqqaHmqjv1j3ukQ8pRUosxCLYT39V3e0zsDoG9OfVaY1lF4w91Qyz/qB0CpjWaBzYBASCweAKL1kFN353UxIudaqOmtaRqsAe9npfflRQWZ2/iLN4saytJdZdlXKlX81khYzqIbyn8zYdCduJMEEZr6y6wBwgsjMAidfDtg9S4i50k3Rbh6C+JChCwcIxUdty/29Cv1mpl9fvjGRVV6Z4rRCKorocdxoqvY4wEEF8YbMgNBICAVRJY1PqgprnAIIJ2gQXVz79Lid0RvHVLcNS+7HuPb+3mM2hPFfcybsqmuKzu+iElItDnIxfRp4F7UqtlxktrlLK59NieID901m2t0GdDWGLqnZ4Rkyqot21lqbtDN3iK1gpFG0L2mGQYKgvSLdhJflC8eZou8UN5Uu5eDtUtTYpMV/HUVbtFuuMx5Up9A+quO+lxYf6fCunMJjV3Z29w8djzcJTOJ8sXo1JhFW8xbPr1wRHp/QtJEYH+H6F6hD4bkQs/dLylZ436RDUe1LUrTGmkNH3V6dEGFDGTUJg4DW+AABCwMIHF6KCmvb5RPxX0T8ndYhr9MgVp5yIddUYPPa3vM7W+7/KeuCvP+1VoLRHF0L21WXuTHhh0CFPWxIUdKXjWO6SmcBabhVNqWWftxb2Sgw1jUki9vrNfklBU2zOswdnOHEKj6KUzHBvLgDMIXXMaWcW5rPpBtRb9/f9uD3Wmj2m7mjonNHeko7GfPssQhYbQ5qsfH9wZc7G+TTZKMR04LEytqznyVAddBCfsWYRO2ukSLJYdB019p01DdYnhX52429KvGtVqGQwtqUQuXNkviSrsMrSN4/oppHa06/L+6KyGQZLSoRhAKFKfTplxTtsKHAQCQOB9E1iMDg51y2kVwRjCAK9pAl/nYF+2zkyVtG9M5XTv5S+k3LT7bf/+urulQKKTT7LtSlmXbrr0urqiG2krw+tsY8+/tD77rau94YQ7Uh91e0WtfpdZWZNxuRdlIXzSnrfW1T9pflkcxEIZnuUVtE3MuFBVI031Q6Ljt+4/bKhK9HQUh/Dp+rU9zfqG0N+a9oYunQwKt4vp/Zz+soJmerpH+Oe+bK172frwtIDWPeXTsidIg92S6luvhKGWUOIfrmltfnkjco3unWlSlJ/KeUFLmV1gZvWr1z3/9renV7Y7oIpI2Y+p16QmJmK9t5+xzj5u/5eu9pZzYl3d5Is7DWiaCQkIAIGlJ7AYHRxR62cuBIczjQxiGNvJMEccfWvySAnD40BalDMqgq/ZcviQj26Ope5s1MkcqdbNMDHyraFy3Onr67/9tf/f+yoSdNPLN0/rdXM4wu8riV6G7APiwrjoyGjjww5jldHi4tPnY/ycuU7OXCbGDdzM01Xc+aJbn0vT2tSrk0H3MB+dBLElueU3K9ArUyeLGMc3gK4X0ypeK+h/55UGa6qkulp9Dp/dxae54JytmYc36eaoymc1XSa10CjCHdG8El+zIy5Ef9tQyFfQY0XzYgaZgICVEFjUPskMceEUlximGdlCgX5ahTKynPlsrH0YCaFSQWHOuHOAO+vhc7V24EZUQDmLJxTwhL7iTf7eQkxfBzUk02sS1XctKe6uvimtUifIpGIYzaScxpt38zben3HaInG7kt+Pka1NUsxXhGl6n/ToBSt0k/7pHnu+J1P9ur2j+2FHrS6aJvv1Qq/Vms7ipjg4cWBEZlAxJ5HRM0O4wJOPPelBXiqGlJjfxBKCMQq2E6KiQiuO1Lxbm8UQOAUEgMCCCSxGB+1Z+guXHKJ1aFzaxttWvTGEw6w1JicJe6PpI07oBU6ru/xxZkDarUzsxOXngySmVcu7m9Gr/kaWncfe3JKjIiYSCf18EdMqpZ0m0TZqVk3bMa6DDIIwmaZyxFsF+f1SFGK39GEi556GLroqwm/LWFCvbEjanf5ERSvgohNFGkSMYOpXKfU1MQgcTXtRzeQImhpP6KBhndDQ3HzvK4u2DgoCASAwG4HFxMXOHq66a13b97DFdD9X11J/wws0u0GJ6+pm8ji1TgvGEmUIhBljksB02ZVX39XWUH7l7JHoEB8ei46bR7tvHsloQsVw3CAvDvH3+//9temrNd1zouKpf3ECt7jSR1UdjYMU2jDRyaBXWIBeLTWNF3J0Imjni9b1/kbX3HBEF0ovJI3JOkZqDIKtK62lN0LoZHIPWEjFkBcIAAGLE1iMDuI+oZt0Ez1tT1FqNQprjZJGmp9Vo5uvMdx2RbqY2K/qk41viar7DX+zHdmG6RA1onyrYTp5+EftSym88cvL2sNudHFysB/JKu7I163ZYaohxYSaUhrNfGLJNQGhbrSqDqPdl8Z2nQz6hPoZmh3ukumUi+EetZ2v285FMbheyHUNmqQZA2V7vqt+l/xNj3Ti3qCRtuqfHWLxnFfQU+WTqcB7IGDjBBajgxjunXzCsMvZlrVTEp9d/qCh8WlD1Q/p0Vv33JDpVt/4iWd3Tbr0td3X8h4rkXBRb5/mleoW6TC29yb6wRZpfojbx59tCTpU9npM2ChSt1aHAm/0JAsKe9EyH61l2hfXilp1SqPpL4z08/3YRRR0YdJurK6YceKIw3WF++9+r9/S3bTdfSwYJXBDgD6MlvBQGmnLK2jSz+moEbXJRg+m7OmbZgKsa8k5NEq3y6xt/z7jge7eQCkeZ+W/0NXk/FXkrDNWXQ2QgAAQWCYCi1kfRKbab8m9Rabuv9Ci1GqH2u+da79nbD8hiC4sjnMZX/YySJuDr+PAkU0eqQxMa1iLsws8GiekSwqi9oprT7eoe4pCPyljsQlci9b8dHrKjUjYrJt8ciLPHm2IuThAKu7t+ayeIHCSpDWGwQ0+fUAw1wobK3CLIKenV6tW0TNSljjMY7wENyTA4cbNYfRYT0GYfy1L+1aFeZ447Hi56IVW25a1Pagnpea8u5DP+LldizadT3wmymBLyl6k68w2TtzY82mtsRltatWL09s/zkLPDxq8ZPmkXfla9/AOJCAABKySwKLmg7QnuMuuwudPrp/eKXbj2umfM0bfs+DsI0kuqH75c4rfxMog2gjRCyE75NzN63vFTkwGAz2QzPXaXXCrcIthJ2XNjsKa0uNhPjwOQalVKqUGZ3FdA/eeralK9zPseuAuX9+qLz4cInJgoWeUSYpg8wK/QhmyxzLMBtjeXyKkp2t04viHehoJp8vR69e/8nJE65FaUsN0jSq4W/J19KGjXhxdft3T2aytJ9LC+HboANqEWePIn7o3RGd1DC27f/fsV2I3NkGLIIPgCMS7M+/W34h0mkun9YbB/4EAEFgWAv8A3z+4LNyhUSAABKyHwKLng9bjAlgCBIAAEDCLAOigWfigMBAAAiuAAOjgCuhEcAEIAAGzCIAOmoUPCgMBILACCIAOroBOBBeAABAwiwDooFn4oDAQAAIrgADo4AroRHABCAABswiADpqFDwoDASCwAgiADq6ATgQXgAAQMIsA6KBZ+KAwEAACK4AA6OAK6ERwAQgAAbMIgA6ahQ8KAwEgsAIIgA6ugE4EF4AAEDCLAOigWfigMBAAAiuAAOjgCuhEcAEIAAGzCIAOmoUPCgMBILACCIAOroBOBBeAABAwiwDooFn4oDAQAAIrgADo4AroRHABCAABswiADpqFDwoDASCwAgiADq6ATgQXgAAQMIsA6KBZ+KAwEAACK4AA6OAK6ERwAQgAAbMIgA6ahQ8KAwEgsAIIgA6ugE4EF4AAEDCLAOigWfigMBAAAiuAwMJ1cKhM4uK2dtqXX3bXEiGhHh8UGdkg+sgvNOJYWavS7OYpWfkXPkFnejTGNVE96YFuawPz+uiD1OvLOz8Ny+szyWF2u1ABEAACy0fgHxfcNCfoYrkrqSumaS/af5MMO5cSxmHQ73G284KrM6MAW3LxvGQNXYF2RNFcda1oT7ym7kmSy+KrpPoup+aTEZUnRcyJStDBnFoVhrH1h3CXo7nfdn+VdNG7/ry3UbbFtwolgQAQWF4CC9dBnOPiwdEbTakJpH/OHt6ehgNL6wuTK/QQOenbRDYwhr1Od7YNJbk4LtaMoZqcanJrcZwQN6phsDLjIb51M+9x//hBbtRJSdXuvKu76tLcFtsWlAMCQMBqCCw8Lp7ZdKo7e4PL5pwJvcCwwcIgF//UNurtnZi1fumP2wrjQnw+chF9GhiT/lRBGaqi3jzNiwvx/0jo9pFnaPSZhjdjJ7C29E9d/NONK5y5dRxjMDAGc1zCRjpKD+7c6InCZ9GGkMSx5jStZzavDczuGmvizQ8xH3nuqdIF1H13Kvs5kt2+xpM8RXlWGbU9Ld5NN+EdS7hbdBRfVXunGYLjmTsEzgABmyHwPnUQ94gM4aqePOgZ17HXz1qG2OIoXxwlTN1ScFMbW970b6+flWzBapOTrg7SmEaa0mOS66mAtJonT+uLI5ntqTGnxvSFJfDz8RYSc9KkRgbrzt3sZW6OCdTPTClpTmzSVZVr8o2HnY2/5G7HXiTvSW1CqsX0O5oWhtVnXJPSRirrMm4OC4+ejaJLSR+3qzg+wcZh9dvqnKvqoLNHBcYTRJ01nMAtPLK9YVxP5zQRMgABIGC1BN6nDmIYP2o7T91cP6YOiidNKsctkUKD9wzPA4f97JGksDwPJG4ihl88kyEpevLDc43ocOFRfxcOx8kjJvekmGoqq9XveDhHFt7IDp8pzpUVBRu2azy8wjNaWdGFmcH2urao9opaBTvqXPpWN449h+u3Ly1BMNp4p2UEnWN6n84M1tzJqxpSP75QNMg/nLtLp50j8kEVw9mDO9FVI3UZlxWbMg97TlFBlGcNn8ci5X1DE9nhLyAABGyUwPvVQcxpe6SHpqW2XRcvDrW0Kblh2/ljaHge/DFFwR2EHOzt0DBFybtkmJOPu16/UE6mwNtZiw6OzylnBsuNuH6/uo5+3a0oPRuGP4/bmnhfJ0xv+uUkwfOcEFCOkM/WKqR61WL6Hj8boLoa/9W5Hu63mZG6nRYMUymUGIvDGtc89eOsokFRSrJJmGxkDIfLwUaV6pnNgzNAAAjYCIGF75PM7ph9UJRPUcaDTk1A8EhTwxu+JGRcjBj4xOIdhuMEptVSdNJig1e2r71iUq+HGu1ITzcNM86Fcxyd+YZ9Ekzg6cvDQnadu9a89ZK/VqPFcMKoObRwyMA05NhyHtPvazEz6t6IzzcT5iFLMAaySp80bUUFUl7yfcMEcxqnGSjUR8YjvZ7LzmkKwyEgAASsiMD71kGMuWmHV8aphtYRnvKZSvhVsGG2hVzWUpoJ0SA1JMYg0LIhLVDOX9+8sp1lTIXJMnk7P2BcZy6DVAy/xXSqR5FGzWG0MjKJsR0QRdWFekrktab7+4I2ca5+xkcvYSJhNjTV97BFqSZPfOZ2YqLtgUiXGo/Mh5X6OJrOi8wHEZxf50AuIGDFBN67DmK4T2QIcaT2bo1a6R4fYCxn8m4ZFe6hEw5K0afE1vg4oGmhkM9oVZJrHEVjiqJ5q8TsF/FgHiXvk2kZjmwUYuMiHnGTXrzbZHigUdknUzH4Av27N3fS81Xeufdz19zcGZ2VH1Kb7YeaY6M4t0atojBn2hDPE3cbDkz0m7I6dc8zhyuliULO2CNCShRH23kuQq6teDSAaUBgdRJ4z+uDNERcFLXFrutm5VsfySZTOeu6lvd4UDkyIkMbFK0UT7d0yAnZJ8ab8pPudLxRqt8O9VQd+yooKqdRH8EO1iQdTNcv+U3TPRpFX3dPl+7V2lSTcyj1toodttcLtYl7xKHnWqqy8hrp5hStP2RclaJTYtocZU3GtWHPI2lb7XGhfu/4su7TI/Y8Z7a2r1uhbwi35zo5TrwcOQwGg7XGmbtmzKO3Mrma4Aln2sOZxlw4BASAgJUSeP/zQeSoS4C3/U3Sc5e3SdDIEBw6wH1y+qtUGYmzBWHnzyboRMQ+ILvifNG5a+mSi6Nahp2jR3Bu+WGDgKqlrc0dxD4sfFp6qvoTsfWGM6igm/fp8sOxHjqhwvnHSwuZWUXnYmuUJMbie0cV3zxOn1JWnSrq4x9+vkM3kcNFxzODXiRk5G+pzvYQbPVh325veI3x5/GJFOWLp3LCJ27areRpjYWDQAAIWC2Bf/j73//+vo2jXl/YGdkurjH6iNtI9R6vC3bX+/I2ve/G3md9QxURYWVOxQ8NK4YzV03150l2d/jehs+TzMwIzgAB2yHwfuNiamRI1lWdvr+a9DsQM49ZlZVxcoxM20U8vljWN8dDO7ptli0p38KH6qysA8EcILA4Au9XB3sLonbFXZY7Hy3M3WKLOwhoxTD3OHEv9YLp982YoKVe/5B+VSvJPQFfsrC4IQelgIDVEbBEXGx1ToJBQAAIAIFZCLzf+eAsDcEpIAAEgICVEgAdtNKOAbOAABBYMgKgg0uGGhoCAkDASgmADlppx4BZQAAILBkB0MElQw0NAQEgYKUEQAettGPALCAABJaMAOjgkqGGhoAAELBSAqCDVtoxYBYQAAJLRgB0cMlQQ0NAAAhYKQHQQSvtGDALCACBJSMAOrhkqKEhIAAErJQA6KCVdgyYBQSAwJIRAB1cMtTQEBAAAlZKAHTQSjsGzAICQGDJCIAOLhlqaAgIAAErJQA6aKUdA2YBASCwZARAB5cMNTQEBICAlRIAHbTSjgGzgAAQWDICoINLhhoaAgJAwEoJLOb3i4f/U2Wl3oBZQAAIrEoCDv+LbY7fi9FB1J6ZrZpjsZllkYjbrvFm+r7aiq/mvl5Vvps/M4O4eLWJA/gLBIDAZAKgg5OJwHsgAARWGwHQwdXW4+AvEAACkwmADk4mAu+BABBYbQRAB1dbj4O/QAAITCYAOjiZCLwHAkBgtREAHVxtPQ7+AgEgMJkA6OBkIvAeCACB1UYAdHC19Tj4CwSAwGQCoIOTicB7IAAEVhsBC+vgYGGQi9taF7dP4+tGJtAqSsPQQf/0/tVAm3rbXZEev3Ojp+gjF9GnfpsjDubd71dPeK6siKAR7bmvsXoaNmSqBVlSjw+K0JBGr40XpEbtaO7HG44HXZah45oHiXS2sLI3FjRmCaruSfejnV3r4pPURE20R3WkeuqP+6d2L4EZlm3Cwjo4ZjzZ/v3VbiOIlnXKemrX9F3eI4nN/7ldriQxnMAptaq/ufJE1M64apkt4JDlh7h9dLDBYCqDLfTx8vV3tbcewMtqibK9+fW4AVTvi36tsTk4RxSIcAkcmMtq5PtrnOxqkk4M2v7mVvL91b3cNS2RDmKYqvZa/dvl9naJ29e05SfeHCAxhvPO3Ia/9vxLV/u//bX67GY2Axtty0rN77d6JRysf6IwYmbvn3ajpOy7JL+VcmWbMx4IgoEpOtuGDHVQ3S19JEYQxHiduEdcCcJ1xn9F3DZoz9TdLYNj7r1u71WbuGsOy+UvuyQ6yPXyZWPanpLitqmxn7pqNz27jrijNMBoS/8UTcL9srvo9/o5eWh+t6zq2M4NQreP/GJSnyqxkZ78+NBPhaJPAxNL+6fWufxYdRaoG282oACYITh8/Uywk147mPyo81eiuOjscO2dDiPTGVplc85u2inaxweKMY2k3jzIjgvz/1Totlbos/GLpNK2MVAYRg3VpceHbhCK0Kmg+LzHQ/pCVKMucIu40/P4GKpw86k76RsQUmHiROhtiHB3luou47dthYlfbNY3EbQ7+76unr4Lm9eGV6LGtM2pH6OYqA3DpsTFmv4a2gBPZIBoQ8ie1Grp2OrHWMf1Kx6f2UOvCXhujj7TvJJuhM5uAgYmb+wxdMdgE9IFtrOb3fjgM42LbR2Ig9CNwFQdjQYhVLS1D2MET8gZd5ce8F13UiICfT5ycUPdHXGsok8/vgfLJGj0uoTmD+rHp6w0DI1PkeSy0ezSuJrl+HtJdBDjxh7wIrDRx1fuLXCtBMcZiMpo28WMKtLBmcPQqgdqT6XGJWe0MXhCFkaqOguOfd+3HODmbpOStslQoMQQ7gpeY5wb50dt56EDZE/H+N0VyWJ5cn4fwfPko9vuQO3p/Tm6ZQRNU3rM6Xttarbf9ujdW1xxRUtBwv4c/URSWRMXlfFz+6h9QHT8dp6mvfJIbE4rPfJw9B9K6of559q1a/gOf3KT+LGQng286DGo60h7C702yw8OdMSo/rw9CT++kGLC7X/+woN423PvBKqHwlgekSEC3eyG7fXFzohAkxFPH0YFI3fn/NyuwvnisAABruytzdoTc0HfxljHXUgqkNl5irg4qer+JTW1ekLE6SpsODFwkbczhg0+7dVJv6yxR4WxXP1m/BI8mwfiLHJlYMNt7boAQdnbKMMYbt7O9OVpSG/uJMVdfN6vddj6VbQfS93/LD/uVAMNxznuygG6bHlWJbr8397JvyrTMvjRFw8IdOPUKtKS6CCFMbccRpMgrays4Okipm/kW/Y3FTfyym4cdkPQtAODnLSK79DbRDQQMVVv11hsYhVEx43QjI7QCyjEGg4SIZO0hoNCYyRyoyMTkbGa2HX93nd5JT/fPY7mGZjqSXUvOjnUNoBmlM5fZReeSUk7X1JRcDz+SKSQoZuv/VDWjUJun+O3LiUdP3O95Cs2pq6/+pAWGr0QKpV2yY+f1f9ckuAmCPNB8xS0vkPXiRSy9Sm9wO+8PcgJjcshytFfHHLkbMmZpOyC436ocXXHk35sTUDcoQD6smbwQ9POJG11NHEBXQpVF2qGtBhre2H97bzcS7fqiyUsTDtU/X3txI4Y+ZYZV/NzXu53N3M3I0nV9jUNLKL7JzVsHW+R566efEzb39KFXBrqbFNghMBfiJssEU4x1YaB2Lv5CxnYYFMHmtRrupsH0Q0+wN0o5FcPKVl+/uLdmYW5J1NKMtFgwMj2hi7dgHPal41GtVZaknGhMONar5bBiz2X6GI9KohhS6KDiATOTzgqJjDyxbWy1xMX/5RxMv0BhnCLOx1WcrhO9ASF7gD6raODIy0n5FsrXa81uldO9suAwGgk8LYG0NEyctJX9wepkKMBx3GmFXPw2h7JwfT8Ow1DHMnxfTFbnZH3yj6pCmVbw2VTI+qREZLF59E52yeEhiGK3GoYp7hwu7duXDbTc2cNkjl0ubqGBdBzPKcd6SXfFRbuEyFjKJxg0aJNauZEqhlopWe7hN9mb0PE7yH2pLVO2jUR7jCEm8U6E5hCDwf0j1ajXik6iLzhbRKh5Z7eFz2aEXpqT4/SidVB2uupyZaBsLw28dHEt6VrRNPa1KtF7tM31/HE2nSyEA2ktAB6AFEsDt3vWpI09Dc39vxhN4a2++6PbSTD+cDZb52tSQWXTgfRpRBwOIGPlpbvFTw1empk6lCZ7ggT119rDAZND2fq/kF/4PS/C5bV6VqwwDF7lj19WYy+VUz2941MRU8bWGz7icEwscLOZOoElNIgx+x3nS3c6crCRgeb629cTI3Z6vvpF3mt9ISL1M8lh+7uFX8W4PVZgPh0C6pTq1aNz8aYLNZ49bibJBCNT3UnWt/RtLf0oayCYEOoi9Yl6UVGepX240/2/kyr6zwSqdbQPhDE+GQXZxF0e1oNbbghMZnjWyrWNe7n4eHcWYRbvNDaTFdbb2uTFC0Dh4gmT/ynVmHDQHB0h+ah+9yLnt62Hi3G9/c1XSoZ6S5LDPNHi4P0QNpaZLTmo8PgGBzlphvYDF7YFr61jYalmg/SALhRR4LRuGm7Vjk481SJIklrFbapo3r2I66+uo7ve1BvsipKyWqbhtFxlge9wDSWSHJsCqZBj9ighDN1Y4Wz6UzFb11NdeW5Z49IPFgMUlqZegWtwRE6kcU4289eL71+a/x1Qj//0lVA/28s4YKt/ujurepul6LoGMXTbjvEulVLRemh1Ntozdvj8PXyuzVVZ0PmvpZ1dRIsnVyT5LjIU2pdzzGYesPHWl7J//L90cKruqfsNppf88WeK2JjeJb+cvLxckSLG3fKukjM0ccLLapMpJG61PiiFzKtcG9uRdXdmoKISesomqa8AqSeDAZa17qaZfw08SwNLt2ppdRBjOn7TQJa/FK1PKGXp/QJzYPo62moWx/QqRufoin3ykjMrXsl6JaJlkX2n2p4ow8QNLL7p45UobVmtESy19tIquSN7fo9BGVbNz0lQ3HuGkzz+mlF/oWyVg3LxSM4al92WaYYwVKrVRTGEfLZKJtGg3v6evv5entyMA3SIcJuhmdacOEWMZK4waayqh4kg4Jwf93dnJL3oUU+jPD8Km6Th0BIkG/1dlITNyMtSU0TzDJd/dDsHs2Gnhl2vTVoMQgJOMPd14qWvy08kHD3QBGBKQYGScw5wNtkN8zCLS9P9c7+HmgVWjqgxNi+AShINkqK3kH6unUN2xvs6SbgUPq4ZGwUaZozsp6rMYfdN67Hc9H6TH7qg8lB0vJ4NNbqIn+nabFGc6KOSspj7xntGuKeAe6M5k6yOSfmYIcj2TtIslmY3LogLdZb3COl8Mhw3JXeoYepwQ/TCfQcNUnqVN4uMDM3YeyOqTtCKH/YG93tbq/ubZSiAw4hu9yRSpLdlTd+UVW194T48JjYaF8TCn4ZHrrlUeG+OI9nOd3NOZEHe3xZo93PWgZJu5Dih35Gk0xjw3GP4EDWvZ+lLegBGIYoOFA/ecEdOEgPFWTrlZT8HrwP7Z/w7TDpaNedvCpOYiCLvkdpe4oSj/Vu3ZUWaxIHccKORlbFVyLXItViIaFC00FVRIEAACAASURBVEw1elLywOGxRcnFUrOlcrrR+wx1ioOvj35515asX7itvK0edj8/HMVY7vRaoXHi8DgMTK3tvXEqb4ileNFOOrKxfpW86mIF56iEupzzRI221FK+9RDhmRFPYu+1Xcy571MYbjUz6CWdDyJuuEfiIR+TqNh+R1rhV+4cBvmmvfct55srmcE0HEq7IqJjXLjv1vPytC98eBy0SYRCX4Lt5h99sephyY6xy4bSySBDkFz8jSN6HKFfjbPdvyi4nuaGZBD3PHnz+l6xIzVQe/fHG9UtQ7j7F5m3SnbpBIkTWVJ+9guRnab93u1fekc44vjiu7kBM0wH6QIiXWhMN+a5fTx85n97/nggl6BkLVVNKueT1ysz4+joW9bSKKPsA76JFdmhp74H26VvjGaIukowpkdKze20MGRAd31tk5xy9Pri3N2KfVa39KO31kL/Z4rEnmg4s703zXD7sVC7y1QtjrYo0XoMIQoWTlrh40TmZgY5s7Ch9vonMlb8jeuFB8ToObfB9oa/NeZkPBvFCPHpI/SWGu5x+PRmO4xsOWdN0fE//P3vf18oU5v+SUCbNn6hPbXK86/mvl5Vvpvv7FLPB1f5lQnuAwEgYIUEQAetsFPAJCAABJaUAOjgkuKGxoAAELBCAqCDVtgpYBIQAAJLSgB0cElxQ2NAAAhYIQHQQSvsFDAJCACBJSUAOrikuKExIAAErJAA6KAVdgqYBASAwJISAB1cUtzQGBAAAlZIAHTQCjsFTAICQGBJCYAOLiluaAwIAAErJAA6aIWdAiYBASCwpAQW+T0LS2ojNAYEgAAQmJWAw/+iv45z0WmR3z9oZquLNtf8guZ/NYX5NkANS0NgNff1qvIdOWvmiIK42EyAUBwIAAGbJwA6aPNdCA4AASBgJgHQQTMBQnEgAARsngDooM13ITgABICAmQRAB80ECMWBABCweQKggzbfheAAEAACZhIAHTQTIBQHAkDA5gmADtp8F4IDQAAImEkAdNBMgFAcCAABmycAOmjzXQgOAAEgYCYBi+sgpWzOiQ/dIBR95OkvOVjWNWKmwUtdnFJ2lJ9KlAT6fOTihlwI2p1S2qSk3qsVb+/ErHVxM3qJNoTsSa2WahbdymBhkIt/ev+U8jMdn5IRDmAaafmpmI2eorUuqDsSc54q5up0TeMx/7UuO0uHbA8eNViXvjv0U6HbWqFP0O70+4NzDb3BMonQ7aNjzbbn6gwWL/LzxTPUNuUw1ZOz+8gTVvTpG8FOlLzqSl7cIaz+5zinKRmt8wDVXxYdXzRIuId9ffwQl4WpFa0PK68e2tV45HrlPgG+IKOHCiWHtGefpAinL8XbXXx8E6E7R40ONlVczdozqLxbf5Q/ffbZj3KCk8/x7fUfPDdu1/j47DWs9rOK0vg9BWr3+MzCTRxs8E5eTvJ+ivUw22PGPte05Z97NophLNsjp6xLjM0Y5EefLs52whT3r+WfiCWZjYWbmDO5oijPKhvUYoyZztvi8b8vPCn+P+U8C/1X7Tcubt/c+6+x7G9ubXMWp7T+33kWt0S2+Rv/9//bnRYg+KctZ//638aG/PdfMyX/5Bz5/ZuFWfffT75xCcj923SF/vN29D85x90zbeXXo+J/8k37y3T5F3RslnYXVI8tZl5AX09yr+vsPzuL07rGB2p/doDgn092zwiBHireX548/pnbggfGjHWad2L+vv/vG5J/8jj8aHz40Rep+zdPZrxI//PnuE8C0lK+dnc52mSeje+t9PydnalJi8bFVF97r9bN389+7Abh6OXLHe1ql9vEDUPTXvlEZRd2IsXT5MbI9Dx6ve7xzQRHnRMjHaUH9dGT26d+OxN/6BmLKHpS/UTRdzrK4zd/JNxTciF0fXKnVlUZ6eIWcUc5D/eZzm5sTK0e0VdHt7JzPEZLn4jRNH3V6RG6mH2t0F8Sn9eor3ss/n1z2bRdk7iYev0gOzrEXxfvb444Nr5kQTUeFH10sO710+xoumbRpyFJpf1zBUrzcMmWsrgdrnl89/jE7M9uDRPTUOQMLlB9l3OesL45vYs943RxhpLWcNhp162G2rSJ2R/LjoVpKWqGZYCRuozLik2Z3/jqYxdrcOB92GBRHVQrlVqCwx6XQQxjO3KwEYXKJq6qoTYpSbgHTg2FmBwXR700qquSk64quIdu/NLS+LDsBG/o2pHUp3rncAamVVaXdYmOV1alRRy9W7GTjbEjbv2lrWwXZz4dpx4axQjCHl1YlDQnNumqyjX5xsPOxl9yt2MvkvekNtGtUG35iVm9aw5cr2982lKV5ks1JB0qe2NUu9OBGdsdeZAac7qFuSu7vrHp+Y1vnGQlcQn6sjiGY1ppWUG36Gxt+7/99ZfjnN6CY9+/no/RKyYPzlzjyJm4/Sk7G4cYQg/B9P4NVmY8xKMyY1xsNFBkspw4rHEF1/S09GE8T7dpo2J1Y1bRoCgl2dcGw//pO89w1KLrg+QIiTEZxjcOHGcwtCQ5w71mVkuX+iT1Vk1iLDZntls8K6zgWSBO2DPpTGs430Tdqb/aPoBt8UZvkRAqCXHFPv81OstH6Cw405457fhC57TjUCj166aSjIcqzvaznjhGNVXUKthR99O3OtP12O9LS2jakn+nZSQglFIo1IRr2BaBE6qcwzlezN2kZOib07VJN0hM366i9m4L5XM292tv2h5O6NkTva0JNeX9cdluuoIUL+pkMF0txg3b7pqTLB8cwVyMbmi6TKsjUYryU0V9nMjK7dNe/PRiGbX9+reodwZtH4iyITWrhbn9epQ+3DF1SNNWdK6Hl/w42B6zhSt4Ib1hUR1ciCHWl1cngNo57CI7rp6ufNGvUJOGnAzWxBDh8AUmqjRbXb0Zn7llTGQgnLefvXVShGx43S8nCZ7nxLjkCPlsbbN0CAv1FPk7U0Wpu/HYXWJPD28hhyucSWUnNU3J+4Ywp82C8ey4m7sjVj8kU2NuuqudK3AeuwHgBNJS1Zh/s/lgw+cojcbQbzhTd1czJEpWfmh/vsL9bFWK0Ojw+Pm31TlX1UElRxe4aWaVpKihutT4nC7u8YpM3d1xUqJ68rNaOEerw1fi7dCiOkjYE5hGa7yqQlKkloHr5ijWnnB7DgtrVw1RmMtM5lIdGbEZjdw/F1bd9HREV4+66ouAHCO/cOb8IyXX+PK0EMPUGTXNtR8biVqNFsMJ42uTgarVkHRg7BxXUcUuvVlTe/FIAclg8cXfZqZFTR/RmOKmKFQrwTSaquO0sUoN6iz9rAefyWlr77fF2Kcs373lnFRf0vV0Y0WsfulC05Mff6ScFBdWZaNd42kSvVim2lRwBU3bbT1RgxVxCUVKQVrNpVBdHDApGdZAa+a3qjO5tNW/t6gOsjgcghxSoUcGx24hqkElZh/gMM3dxvpIOfu4Enc7nzRptm4xtZeSVt1ROO8KFcqaW9XssOIkP8NkTf12XEYW7A7uyOe7TMeFVj2KpGcrY6OTVkYmoc/LdA4+fin4OEa97W8pv5yTcSif05jtN2frk1UPQ7sAk5VxzkpWTgZOyPm7QsP9mkC3PzpR0tL4I1VYRFlVkulG2YTbmvaGNlKFJfjWGqEo2Op21T/3X74LnkZMrJbYUE1ibJE6ILfmvP8Msz3546ZhUpUf7JJv5MSRtc8c4u/XHdet2Nh0sqgO4p4B7oxTDS9GIqP0dPsb2lR2vgFcm0CGe8SEcZ/fvpjzWJS3dWJ0qFuz0jOe4skBoUIKrenRc159ovrrXyhQRPmenXMS8YibdBi7yTDalH0yFYMvQO9G+pv7GO6bnJEk4mvcgtOOSl/s7kV3mnnooCsKtPN75Jp9XL2eUrLeIYwdwp92Cew9e2SF1dk7Ckyvf03jqaSrZFDJzCKIvGAGZDe4TYQ7lKxsf7LUt7Qwlm9nSyJI9aQfyhsUZdfPKILIV17C7YdRE0s+VFvWrnw8reaE15ppZ8pW2MezmmRRHUQDJS6Ksyf/UB7jKP0cdfnFmhFRSsLUHdhZTVy2k7jgeMHhwdiiI1tVL/aGBjraYZrhtuqKWikWeK6Qfm6GcHdm1NfeaQ48IMBk9QXXSKEPY0gl7RvxFk65q+IsAlNLu7plaAPdyWgrck7vcI+4KP5XVVl5wsxoIUs7+DDnqpQdVi5G+vW6qSjpIfvbzMOBfBZOKdrutCiZXkI0Lo0+0mDS7kRjnJC94qvJRanVdqf9uZiqo/hiAyVKidVvksxp00rPQPV/f+6ZVnjEH5f1dI07S7CFzmjbTP34VFI5I67sjD8T7bQyje4clB3OwNdwuE5Tet+agb25k1+r5EYdtRvq7hkfODiHJ0SjlOrI2V2i3pVbuINDr9VMuEENEgwMt3NBz3+siGRZHcRwQdqNQvxCUUF8pQZnO/uklGVGznvrYPkB485xlbW88mtltXeLUtH2MWHn5CY+W5UYpd9MsA89m9l75Epq8EOc4xaUfD7NT8noO1QZl8CsqHWfZL3TluhAtKYev7/xwPV7+6YLgGdyF+cfLy1kZhWdi61Roh1svndU8c3jHnQNLgeuF1I5xVl7r6JtGoado4f4YnnKpLUqk3Z9Jtqw35JbQeWdu3kkKAv5xRYGpJSdsKWumYnWezk+0i9VYqTyyv4Y4+q4f657kuSCUeqhgX7cJp55mA8MarBfodVqbx/ae9soO2v7zd/Oi9CCzJBsQK2ea7dwPu1Yd55F/n4x/G6ndXcrWEcTWFW/XTmpy1eV7+Y7a9HnqOFqBAJAAAjYAAHQQRvoJDARCAABixIAHbQoXqgcCAABGyAAOmgDnQQmAgEgYFECoIMWxQuVAwEgYAMEQAdtoJPARCAABCxKAHTQonihciAABGyAAOigDXQSmAgEgIBFCYAOWhQvVA4EgIANEAAdtIFOAhOBABCwKAHQQYvihcqBABCwAQKggzbQSWAiEAACFiWwyO9ZsKhNUDkQAAJAYEEEzPzml0V+79b//B829RVrRkT/z3+N2K7xCxoZkHk19/Wq8h05a+Zoh7jYTIBQHAgAAZsnADpo810IDgABIGAmAdBBMwFCcSAABGyeAOigzXchOAAEgICZBEAHzQQIxYEAELB5AqCDNt+F4AAQAAJmEgAdNBMgFAcCQMDmCYAO2nwXggNAAAiYSQB00EyAUBwIAAGbJwA6aPNdCA4AASBgJoGl0EFK8Shlh5fA90y7mcYuR3FK1VmRcShyy0b3T9zdfYMke0/dalFR788SRdmXAs+EX9RTaxzI3uLufeS5ZuoZ/RF5seSToGzpTKdnP049O+Il2PtommZnL7dazqp/+dpdcODRjPDHOVDyX46Ee6OxMUtPWTk06vlhT/fIsuE5zVR3nI8O9BJ4hhfK58xrYxksrYOUov5U5NffyTCGjYHRmUtJy+N2fVvYqxVEH8v77mre8d0ibKDk6JdxZQMLlkJFceSOS1NVixu81VU7UNeimsSH6n3U/O4D74iNTIuAwwXRJ7P/7ErovGw+sjGxnrRIOyu+0oGqkpd/uJ/6seK4l2V6ynoIqptLawfswq/fuRTjYD1WvR9LLK2Dr259r/K++GPRNvb7sXcpa6Fe5Z34boAVVlJdmh69zd/by1/yZfrNn0oi7AaKL1QoFmaKRv67YlrtZH8euh4bePRSaVIf1VP/l1G7zyPd8YU1M+/cHPdtod4OutqHe+TaeZeDjKYESJLEHLzFrny27p6yktMfJIXZCTb68BxYlhqVy4bP0jromnSnPNXbBkUQwzSdPzW8s5MkHxOZjHBC9G3xL7Wle7i6PlN33joSG+zrJfjE3Tvwy8Nlr8YiqVdpgV5xlZ0VB7a5eybczA/3Ofmb9l1VzCfu0ZWTpn6s4Ij1jIHHDcbCSv1W3zLKDtomogecqv3qschAFJh7eW+JTasZmDZY00h/Svt6m7enu8Bzo2TvmV/k4/M7NCU/H7djvLhcV3w8Ln552DO68p22I1OMFi6qroYLfE81G+m1sibW3fPQs1U9WUTzZS/3I49kDefj6OURL+8dx25JaSIyhOvoX7TYq5xN8wuil+0yn3/Dr7LpcTvQfPWQhA6BNwbvvdSOVk/o2Dmi6Hds9F6C4JNtuVPjmvm3YJU5La2DBItllX7Pw6jhzn8lP1jvP3VGRrD5XL00qn85kVwy7JB47adnT+6VJK9TlB5Lb9BrBgPHtKp7t3vWHyu7c3L7t+W3Ij7EPgy73thSEjH5rsD0Dvf/4Pe6RxOLLpqWRx1//ClY4ooGYM+5hP2V7wTJpXWoiW8cpAWHUusnB9GY4qfEfd9J2bGFP9c/+/lSDPEqZ++pOl0udcOpuHO/ERHnK2p/zP2zXe/5hPQG41XBjXkPTnpjmPup+vanJ6Miwl21nXUt47Kn7nj+Oy4O917xc53ZxgOOob4cKC96tT69+mVv60+H2a+KTtyQYRg/obw56zMG9nFKbUv75W0rIi5mYAytvPJSg8PBihedPQ9OCoar0q92UnhQ3osfox0wu20Fza0/JQlm42WL5yytg7bIRG8zpVSTGOtD9mwhACv0Yn3DnZOhAgcO20EQHL+T90dv54C+PIOBqYjPUuI2Cug4giDoBVKcySKYUyskNkjEdsMNj8fusmTH89/IdeGRPAwjX5bVv+MlnE8P5nHYbIHkZLqE6PjxProIjZP0XtUA8XlKVriIy+Zw1+88e1Cs/a2iYRjNJRt++ovW61h2tBefy/OJPJP25/X46DvjAB0nPkCLtzhOMAkcY3++013b8eilYcqp/kvDACHetmFFXOHmDUWKF5kcRN/+CIfQba6Md7/L0d0EJ1j0HQJnENN1q3kNLldpNE4pbniKhIc6HWcHSbw+GJX/jm6paAiz0DnaZTRQVloCHZyxR3WdPdfCGflbyYk/i3VxseATSd4ARpETRdg8V86M1RufwEWSz9jvXtbphVD9sr4Tc4/4nC4rfyXTfihwdxjLjQu81jGG/1VqstGrlsnfYbz1gvHhSfAEDphiYJiifu+RYw7u68aEjPD59lJetOvM45iFVA/vfayfMqpbfpXafbbTe+bs8/LOFjJRpIbUv6ZdxMUw7se8MQxIEXCTfrYFBxdiI8th3XgUxyQITIsWBld4Ah2cqYNxFtsOU6mm39zQF6I6s/dlNVAbsu887/lbr/RvDWkokDVKDN0kcD4Jdw8Xf/iu+d4rNODULY97sPWhYt1QpP7QYu9qdiORNbxE9IKUGi3OG6U/0FsGw/gu/QE9etHw1ZJaLZquzNcMVCdTHC4mBuqeoxkACooH2MHhKy4Gmtohqop9Yh8//SuhQreeMCXhq+BuYHAaremstrTI7+VfDZh4Xq7ET50NLeTmYNPlMWrgl8phfuQ2gfxlx+iHksuHfPR7JtioCsmT3eLY8HZGrKv86VEP9aHq0QDulamXQYz4gIGhJor3OBhXy7BDLU4sJ46pHopaDLl0yoimLWi1h4FU8w8Mm/cyLe61M8gu7vlLZRBRN+AQepq3OH9sqhQ7OOtHgeHWQqDbH6TVRgDmgzP2OO4eJXH4o6XgwjPTILT93Jmc0qoeehMNTbb0K0R0JZT0cfPwjLXNeYJ+kJD8reH5ywY5Y+KxQe56AWN0lPyAy3UwvFgMBottumDH4vM+RBG0dDx6IQd6hzGe+zocXyfiYYpXA2MeUO35sdHnxpb/ZrBJEBHOlf9a8eNjOW9rsEHiZ8i6Ug6zuK4Cgf61Ah8KWSm9ZEE/LKyD5LC091VP7yvZMLpGR4d1f0sVJkGdBZ0zs2rcNeniQXfq19QdsSll95+1vHxWX572dfT+R3+IT5+nn5vhrecxfq/76aVCrVZ0lKcUkAIvhlY1IFVPs5yC2xHY6EBPr1xBTxqnS+hBQley5eoNKWH02CCxMUZi13P1dGGLXIlakT7K3hux88Tkz4EIomPdyV/zzj2SqlCmVxUZNzqIz2KC0MY0O/jLz/DO79LLXkrl8vaarLx7w0zXj01klIGj6a6is1MmVxnkkvt5KO/3yp8GBPo1yumMhWNAYCURsHBcLC1PPPh47Lr/j7x9vyF2RNDVjoteNgER58WWVa+r+P523U/FzaN/YB/YcQWfpd2O3ynQhZmsbemnX6VcPRVaz2C7fn4466S3iiE9WpV4gLhVvX6Sg9zgKPG9CyUHvm1OuFoZN22wyfKXrM/L/I31pf6xQX0FuOh0aSFxqehcQgVtwJ8E4mO3jm+bHOWywwt/oPIKbiTuyCIxOwf3z3J/OLZZb2Pw+VvaC3nfn4kr/gP/8GPv5OI0CTphpNT4+sjojzsqs/ZIN6ZVn99MrwGwxUHr8hR2EkNwbhN9BUYCgcUTWOTvF9vuT1+uqt8zXOy4UFV8HXHLobjh7HqbXjFfzX29qnxHzi7P7xcv9gKDctZNgCKVquHeHy8UKlxTLtq2CFo3aLDOughYOC62LmfBmrkIDJcnfnF79MMNMVcyd07+2MtcZeE8ELBZAqCDNtt1ljCcd6j+b4csUTHUCQSsmYCF94ut2XWwDQgAASCgIwA6CAMBCACB1U4AdHC1jwDwHwgAAdBBGANAAAisdgKgg6t9BID/QAAIgA7CGAACQGC1EwAdXO0jAPwHAkAAdBDGABAAAqudAOjgah8B4D8QAAKL/J4FAAcEgAAQsB4Cy/M9C2a2uoz4hv9TZbvGLyM3W2x6Nff1qvIdOWvm+IS42EyAUBwIAAGbJwA6aPNdCA4AASBgJgHQQTMBQnEgAARsngDooM13ITgABICAmQRAB80ECMWBABCweQKggzbfheAAEAACZhIAHTQTIBQHAkDA5gmADtp8F4IDQAAImEkAdNBMgFAcCAABmycAOmjzXQgOAAEgYCYBi+sgNViXvjv0U6HbWqFP0O70+4MaMy1euuKDhUEubmuNXh/57Yw7U/d6bg960v3cJD8oFm6qpvGYz1oXUfQD9cLLTi4xUr1nrTClcfJheG8pAm+r93zq4hb3wGR8UEN1SSGitZ7prbM0q2zOP7hzgycabKINYYk5TxXUWOaRtry4sNCgsKTS/rmH3SwtvO9TaKD6r3XZWTpkXDH1tilb4un20cGGcfuntjvSXZH0xWadIPgH7c42EgRN1w9JkpBQSXxh68jUcpY9YmEdVNYlxma8wLxPF9+tKT7uQbWciM1otKoOnQMvw+PIzYpy/et67lcO6mcZMYdq3s5RarGnNZ1V7Zgjl+irbrBUE4s1DcrNQWCkLuNyL2mSiXrzIEUSVTSI4bOVpXrSdx+pIr3Olj/tbLybu1n7JHlPapvuIhmpSb1CxpbWPS8W92Xlt86iLrM18P7Padryzz0bNfVV2XjmK8mpXmpWX7HBsj3xRUP8wxVPmlpqc2OJzhOxqfd1qqdpysnoD77+pO7WrtGC03VLrISW1cE3T8vaMPHp4pRwX4HQNzT7fJwz2VHbbjX9OY8RYu8o8vTQv7y37su7dcKL6qmoGpxHyYVnGXlW04WLk0+I7WX1T0zutAuvC0osKQF148WiQZHEl2AYNdt745rKt+Du9e3s2Wzpb3ihYocdTdrkzLHn8P32HQ/jjrY+HKCLyKRKgcTPHsM4wSFseZdytmqW7hzVk5/VwtkexDH2daiyWMo7W3Urnj+bIW/aGwbRCD8Z7MJhrXEURZ2MdiN7n7TTov+2f9hxi3gNhtkHSJzV0iUe/pbVQaddtxpq0zYxx9Cw7FiYlqJsSQcn9ao9n7cGUykNX29BvX6QHR3i/5GL20eemyOOlXVNexcb6Sk/FrPRU4RWBjaGpZR2zxTzKp88kDL9JX6+oYEsee1D2UTTQ2USYWh+d08pip6EKMjaHHFqYsKo6a9IDPP/SCj6NCQxv01a/oVow6meKYNR2Xo5SeLn85GL6NPAmNRqqS1Nyqc4Y20HNG1F59p56PJGkmWUXJOrKtJ8OXNYi6PpIgP9N5ZwJppS6WdVfAFHWk8HicqGJyoH4Vw1zdHQ+zlN9V3OecL65vQutsnMjxN3qyp7q6OxNM7UHu2wITHw8T/XuDkMPaVH9Uhb/SBL4DhTacsct6wOYkyWE4c17qqmp6UP43m6jeuiZXyyZK2USjWCsVgsuo2RB6kxp1uYu7LrG5ue3/jGSVYSl1D2ZnLrstKE/fky9qEbv7Q8uZksUpXG7y+ddjo59LxWxgrZIcIxQdgWNCbq+4yr0o4+uViJ7bv+sq+ns8CLfJie8VQnZZrm1Pj8PlZMSe3D+vPB6mvp5Sqt0UWlr4LqOrN3zx2V24mbzxsflh3g9l3Yn/TASmYXk3nZ3nv9/OhoWvhknWLam+ri9K65RYbwVU+u1ejWndESW1nVEDtkuzud2T7y7AGiPCE06FCLMDNt0+wh5/S1v++jg5UZD/GozBiXSYrHZNnPwzynLZEeWEvpD1J6wkCpW2/W9LHEUQG0IDADUs66tewPCd1z1y75XOh8yL1H3/7xPdY1R1XKhtSsFub261FLLPVzmDXnaTR71fewZqS/5dzlFoofHeaGSilq77ZQPmdzv/amu5ETevZEb2tCTXl/XDZ91pCotspSGSusPDvcja5kzclsZc/28rs9seeR3pmk19V1g5ygi7qyLttDne9U3O8+LPQYz0UyNx9OcKMF2N43MpB7r7Z7GNsi0LTXt5K845lxfvRFyMk9Kd8YNWxaMdLKltKHKucDD7O3cNGpNTvSzvb3xtyseb0jyWVy1tX5Hi3k5WXcbBlUY/Z8d98toWH+7i5M8nVTBykK9ZzjijTMj2p2oQ6YQn5eOPnHS3PVsamh/5xDZ2ewAzOvZ4/1+5qAlLKAedWy2EwL8l1RnlVGbb/+rTOGTXsvn9MITmRJsTLu0FdeV3RZWe7Jxdlj8SLLc19h/b45q7BIhiXSQbRrlhqf08U9XpGpUw2bSdonhzyeTFjLYAkkhZd08kHJ+4Ywp82CcXdwN3dHrH5IpsaMdPCtTE4yXP10IqhLXKHATi0deIuJnCaqJP2iQgAAE95JREFURX9Jq5pUzrtCDcLkGBTGLyl92Jvm4T1WknDm0yqmSwS691JaelH+rUyhZQmcx2cibmJPVuXkrUlZz6CWHegxXhwX+vIYvwz0j2Auc1zkYw2u8H/JQQUedqLQmUUN9bQ8qU6PzBrVIsr86EKfyZ5TGo1hWQdHASyODZbQ86PyGNPenFxqtveUrPRQRiMr8sr5SGeCHGoqO5eVlM66m+27NBfKAnx/W51zVR1UclQwj5nfDB6j3fPke9qAsxVfCViYqvtmXs6hVM79wq3LPQ6XQgepwYq4hCKlIK3mUqjT4hHOQNayhxm+J24li/QxAM5ksdeMz/4pSqPFCCYx0T66MBiYUmOyZ0iqSUz7fP8nz03MZCnRGqHxlUO11bxQadVXtq/V3yf1uRV1rRrvsbslY9pdRy1qjkEYQSVYRhYZGqVIClP9HOX2s4kRDrSlyz3+LNt7862dtfVoij6vi7No69cpKGR7q2HY29MrdSZJ05Dol9qGNBIldnTNi8i+rHuG+dF825qcb+Rp0VUZL60xRa8FTo65mCxg/5X6BN8YtGlg+TRv3+kNcdWmgiuek6HM30aq9Vp+Gyuu4XyobvBznS5lvw78quCmdOtJwfxrsUROy+vgUE1ibJE6ILfmvL8tXnRMjsAFRQFT04Tq6RYLUdKMK+PETggtS4T4YtVhoXENOGE6xDWtD1s0gj9XZAZPiBjZeS6+rLZds2nLbPMCBk5gWiRz44k01WHdcSYSSvam4uvx4zNC+ijD3sYWKIwJWvhvnLVm2sHK9Dp9+67hRsewc1a25EjJIelXH981sue079orkorWbM/52TgiU2mZ7o4TzeEcjh3WI0fLt0uig1OsnMF3TXtDG6nCEnxrjUoUbHW76p/7L98Fz08b1UNKksFmG/nFdmFhtUoVhZkxx5ziwSIOWFgH0bNRh/IGRdn1timCswHFXT0dsfweuWYfVy9UlKx3CGOH8JEsTjxBvYbPY5FyNbr1jYmOZkRJMSf2jugm0GODTZTwZIyn85ik0kfZYR4o5moZ2TLbmvEaPptxVzGoxDz1oXF/yzTb0VyRkFE/oiGcHMclW/kW48ymr7N5vprPMZ3cjGcuksLH3hM3IUpaEJsxsvduboDxpT4HLntHAtMMD41gYwuRlHJoFCPQkxXWlZgB2Q1uE7EOJSvbnyz1LS2M5dvNTwSROwSLxdCqVGhTeCwYUrxWYcwF1GApJpbdL35zJ79WyQ3ZYTfU3dM19upTroxnNjghe8V4e1Fqdc/bEfXb/rqMiw2UKC7WaHEQdRruGx3LV5SeynvcrxwZUfY9zUvcuj3xjslHTejHBjHBVv9JI5+5abM71l3/YtpnccbGA9Mn2JMxUH6hpk9J25B6oRebegExxbHbWV1XUvObZMjUN/116bHbJclL/aiqpYbwctbLXOOI7nBjL2cWE2MwWQ7ofkNLg0bRpxvzg/THQ9T6S6BvSDf4qY6cL2L0W/b2/jGBeO/V02Wtg2iEKLqq0wvaMY+vIxe/4GghIOjZDyNnXbh2OANfw+E62dP3U0op013gvWivSavW/y19oxu6b6qTInYXdtF/Mv12BXNkZakXGl4r1SNK6eMz+bUaXtgukYVMnn+1Fp0PUoP9Cq1We/vQ3ttGFrG23/zt/PJ7Pn9GM+W035JbQeWdu3kkKIvECLYQbe2diJwSy/ATSq/jF4sK4muUdC6e34Hrp782DlDRY4O9mFta4JRAjBkQ7JmVcf+ZMmrKav2ESfahucXypKyi6E15TL53wonjrKy9TyYvJeKeZ26WMPMLsvaWo/VKwgGZWnFitmnmTC7D8QUQ6C+LS6gfm0ENn4vtRGWJzdf/5ZI3RpFDsgG1WrfQaB9cWEXlX6xMjSpSaxksrsDv5PXT9O6zLaU3d47E3DU8VYthP+6J/RFZ73uurWwHkxqS9/cz9HMfpm9aRbHduWtFMdUqNBA5fK9vb6QkTLvutLTeL/L3i233py9X3u8Z0juYONOwpE91JPntf3vg6b2vbexCssSwX3l9PX9Kq8p38521bFw8/26DnIskoGlI2uQrOVbTNaR8OyS9n5XXSLmHB4AILhInFFudBCwaF69OpEvrNTM494Y640JZYliOPtA4fiMlCmRwaTsBWrN1AqCDtt6DGNMtpvDnGJt3AxwAAstHAOLi5WMPLQMBIGAdBEAHraMfwAogAASWjwDo4PKxh5aBABCwDgKgg9bRD2AFEAACy0cAdHD52EPLQAAIWAcB0EHr6AewAggAgeUjADq4fOyhZSAABKyDAOigdfQDWAEEgMDyEQAdXD720DIQAALWQWCR37NgHcaDFUAACAABmoCZ3/yyyM/V/c//MeVbomykO/7Pf43YrvE2wthazFzNfb2qfEfOmjnmIC42EyAUBwJAwOYJgA7afBeCA0AACJhJAHTQTIBQHAgAAZsnADpo810IDgABIGAmAdBBMwFCcSAABGyeAOigzXchOAAEgICZBEAHzQQIxYEAELB5AqCDNt+F4AAQAAJmEgAdNBMgFAcCQMDmCYAO2nwXggNAAAiYScDiOqjuLU/5epu3p7vAM0iy98wvctJMi5euuLxY8om7wOjlHvhl4rlHsrk9eJUd6B5ZNjxvU9V1e70Eu8oVUwsoyiM/8YqrUU89YzhCGxmULZ3x/KwnFmrntJUNZG9BlL68NY310+RvPuFljNT477ga1bMjXoK9j2b2dpoKLXNI/cvX7oIDjzRz1k7JfzkS7v2Ju/uR53NnnrO2ZclAPT/sOa/hqu44Hx3oJfAML5Qvi6EWbHSRny+ep0WU9FLcgfuY+GD2t64savhZ6aWcvSTx4NJm1jwrWPZsDPdDxYkCvRmUWvq47MesPQrtLzfD3+tPBLPEEesZJx/VyWOTeCYuyx49kjPWZ4stxOtPocmZ3lw7XZNU85GgGvGjEgmxIOhUx/3m0T85fDhc90i+51sj6xXFkUe16Q+OGeCNVeqeUHwrQt/gcE3mhWaHg4XfuOK6A4QDm+CezKZcF2bBgsx975kHqkpe/uF+6sdEbwfme6/cuipUN5fWDthFXb8WznewLsvMt8ayOih99FLlEFVx8Us+bamrgD3aG3ajoZfaHKwf+ebbb/EaWNz1IvexVty9RCwyOPOnGnn4JMEy0w6md7j/B8kN9QNJx12NqpLXtfwH4RVvKRnEWILgbWPNDffItZh4oX6QHY9eku7H8tZXJd57LP2WN656GvnvCsphanVMxJOrP/xBB4HhrHU+7usnsrG2vdcbzNT23/cRkiQxB2+xK99Ct6r3ba8Z9f1BUpidYKMPb5puNaNaqyhq2bhYdPpRb/UhnQjqEs5goP/ZjAZO00Ms3jo29k6l0p+iZPXn43YEuaOwyHdb9InynmkjOvWrihOxwb4ooNgYvOvUrd7pMhEbJGI7VcsjkwBX+rhl+APviI30RGM+lWCz2KNqzj8kQUHNJ17iXcfGbBiPi18e9oyufKftyBQLfFMu7PVyP2AcnJIoXHX/+iflVB5kZ00L5r1to0j8OXf017peSp9FcTXc5+Rv2ndVMZ+4R1caYE0tPeUINREX0/F+eG7L89y99KKKu294Yv7LaQyYUoUFDqCZspf7kUeyhvNxWza6f+LlvePYLSm9OCK7Gi44+hct9ipn0/yCaAsY976rREPCK65yoPmqbrSgEbv3UjsasHTsHFH0OzZ6L0HwybbcRa7DvG9j3199ltXBcTspilQrOm+duy13CI/0smEhpFTvRjE7O10oqa4/tSfzL0REZs2Thrpr8Vz5jcQDU9f45LcOHCqUsxOv/fTsQelhd1XZgW9vTbO8goskn7Hf/eWXMSlBQ6/n0a8qu88j3RGueVUysz1kz7mEpOdY6OnSup+Lk3jDJQeSK0yW8zbmPTjpjWHup+rbn2YfkKzHeh83j8sX2dnQiwm2fT51pqZuqO1heIWKCYz7eaQr2XzvlV4IuQnltyI+xD4Mu97YUhLBXuxwfVef/5jz7Y8dXR11Z9cr751Kr5m/pC62zWnK4RiOaQfKi16tT69+2dv602H2q6ITN2QYxk8ob876jIF9nFLb0n5524qIixkYQyuvvNTgcLDiRWfPg5OC4ar0q50UHpT34sdoB8xuW0Fz609JkxY7poFmY4eWRAd7zwf/s9g/7NsK6vPCH46JbEwGDXMcDCPV0kfpV19S6z4PpcfBcF3lXyivg9nRXlw2iyPYlp78OfH7/QrTWyXVUVX2u13o6cxQgQOHzdt8/Eycw+8VlQa9MB4suHu42GG0pX7sFPWqrmWUHbQN4ZpfJTPbQ74sqx91T8jcI3bl8taHnj6TKGarVSbbPTjxAcZAU3WCSeDMoHB/xkBdi0F0NL2/9mIbIoOnBn6qhkcDhDjcm+5Qtr9kPdlxv0NfK04QaOaP4UwWwVx8d2vtgg/GCFC7OEd8aI871vtouaaE6K7Ei0wO4qKVS8IhdJsr493vcjRLwgkWvZaJMwhz3LQuyUD9RnHDUyQ8JOs4O0ji9cGo/Hc0FFCXstA52mVi8V1qXb5OWLMkOsiLLbldev3CUW/to6R9Z5qniwutlY+24aj32J6m2H/3hR5ia94VXaRPyaXDGHe96/gsABes52LvFPT1MZFU8t9Jhqu3YScAHXcQCOxG5QPTTWx4O7etI1se66WE6nzcMvqnYAm9XDivSmaxRz4g09rxeGNChrvuuXg+yXvm3QgcqR4xUP+rbspI9ta/QqHvNNkVv9YN2PlLPtZfFSzxVm/stxqDEBozWPTfH/DXO4wVJrgOdpiKviAtkihSQ+pf47c903a4H/PGrn6kCOjeRGotYog1VMpyWDd+02MSBKZFC4MrPFl2n8QAj2DzBWxMsN7Hm63dkZz3Y7i/yW6ANSNmeCejYJae29C3QrsPOayxq0GrRVcCgaZR44nBQJMgFfmHsT/kKIlpf036519NnLRTIbE07BYYneAGb3UtvVHXQfoHYx31neS6+EgefXpelcxiD/WHFmPgM+ueiW30G1wUsdXhnm7/2uFVQy8uvrhhatAnu/dIjr2T7/OuMSrPuPdSHbxt6tRxShPzOYATRmvJDJyBkdq5n1maT8WT86gq9knyBvRHP055Uh4zTShv08vakx2e/T1j5c33ZncYwyyqg6Sio1NGrN9Mhza6RKxDetisUlHYxARpLguX+TzBduXrxGhymlC9Me/QVWpQxtHxzIQdgX2wLvvOIZMVFfyDaS40VIb9eajrd3mPXmq8GXWdWvdkw5LcvCqZxR78AwampRYkIbxtoeuq6p7L41x/7SA+K9GFvqZpoKblPxwiCvLQOuBY0kpvJBbcb1Zt2zm9e5OrmOs9ZTwP0VII7gcLEPO5ajc6zw7O+lFg4EOwdYu/kFYVAYvGxZT0p6zUc48nVuSpYakKI1jjcypbRo27ihwwxSv5+NOzlPyVAvtwIvzUOcfmrbP7450ac+ByDS87gkHYzUSAFUzvUbxsaEFLcutDx56XmVcls9jDc+Uz3vVOxOIDt/bGptTPHmI6hEa4qlrul9V32gWHT10Wpx8bfLcu9MuNfB5v/CWQhHsz/rWmYfg99esfslfjO0pqmXwUc+BNnUS/l7ZYXFeBQP9ymKlv3ktDUIl1ErCoDrLEX37O/v3G4RM/NfcOSHufFx7NaiDXxUSst04WC7SKHfznz/DO79JrXinVaqX0UXbBr9r1sTGmmoF7R8WsGy7LvPRMqlKrVdKGS0k7Ig5XzqgUTLTtwPit5OpvmNfW8ccG51fJzPYQG6ODPpR/fyq3YUAmf1V37kLJACZwNZ2z6eJmRWenTE7H7CixgsO81bVlnezQbVPnw/Rjg6PrPvefJEv4eon3B/JHj9BeKo4mwqMDPb1yhemGzEIgM8iW73Jb5ErErf5yGVqllHz2niLuhVgBeVcBAYvGxRjT+8yt7+zySqvSD1wmsQ/YPK+Ua0djpl5WtgmaFXz+lvZS3o/HQs//gX3woUB8rOT41M+Z8PZcK8YLiosO3Ff9gREfrvP+pjgFPYAwUyI2RIqJlkdUsP6xQUO2eVUysz2Ez+niXOJSSUFCJXrqZ92GxGsnY6ZIWGT0xx2VWXukG9Oqz2+mN0a9/AWMDio8eOocjH5s8A9ewsYpZ3DRNi/i+a910kOpwVHiexdKDnzbnHC1Mm5xXW7nnxCO3zu188R/UIw/if5ckC0BGZxp3MBxswgs8veLbfenL1fV7xmaNTTUjxJ3XGKcflQUbJlFudmNQ89Rf/FYdPt5+tSYfPaCRmdXc1+vKt+Rs8vz+8XzHoqQ0QYJkCqF4vdfCi71sGMrlkUEbZAZmGzTBCwbF9s0mlVrvLL+VGTB7yxX9KRk7MRnIlctDnB8FRCAuHgVdPJqdXFVxYaTOnlV+W5+XGzR/eLVev2B30AACNgUAdBBm+ouMBYIAAELEAAdtABUqBIIAAGbIgA6aFPdBcYCASBgAQKggxaAClUCASBgUwRAB22qu8BYIAAELEAAdNACUKFKIAAEbIoA6KBNdRcYCwSAgAUIgA5aACpUCQSAgE0RWOTnSWzKRzAWCACBFU7AzO9ZWIwOrnCi4B4QAAKrjADExausw8FdIAAEphAAHZyCBA4AASCwygiADq6yDgd3gQAQmEIAdHAKEjgABIDAKiMAOrjKOhzcBQJAYAoB0MEpSOAAEAACq4wA6OAq63BwFwgAgSkEQAenIIEDQAAIrDICoIOrrMPBXSAABKYQAB2cggQOAAEgsMoIgA6usg4Hd4EAEJhCAHRwChI4AASAwCoj8P8DmWzMPh9tRTcAAAAASUVORK5CYII=)"
   ]
  },
  {
   "cell_type": "markdown",
   "metadata": {},
   "source": [
    "![Actions](https://miro.medium.com/max/2400/1*HNcp0AcTME4WRKqfoDc_dw.png)"
   ]
  },
  {
   "cell_type": "code",
   "execution_count": 20,
   "metadata": {},
   "outputs": [
    {
     "name": "stdout",
     "output_type": "stream",
     "text": [
      "observation space: Box(-3.4028234663852886e+38, 3.4028234663852886e+38, (4,), float32)\n",
      "action space: Discrete(2)\n",
      "initial observation: [ 0.03184767 -0.03879065  0.0215506   0.04234577]\n"
     ]
    }
   ],
   "source": [
    "import gym\n",
    "env = gym.make('CartPole-v1')\n",
    "\n",
    "print('observation space:', env.observation_space)\n",
    "print('action space:', env.action_space)\n",
    "print('initial observation:', env.reset())"
   ]
  },
  {
   "cell_type": "code",
   "execution_count": 21,
   "metadata": {},
   "outputs": [
    {
     "name": "stdout",
     "output_type": "stream",
     "text": [
      "action: 1\n",
      "next observation: [ 0.03107186  0.15601575  0.02239752 -0.24346059]\n",
      "reward: 1.0\n",
      "done: False\n",
      "info: {}\n"
     ]
    }
   ],
   "source": [
    "action = env.action_space.sample()  # take a random action\n",
    "print('action:', action)\n",
    "\n",
    "obs, r, done, info = env.step(action)\n",
    "print('next observation:', obs)\n",
    "print('reward:', r)\n",
    "print('done:', done)\n",
    "print('info:', info)"
   ]
  },
  {
   "cell_type": "markdown",
   "metadata": {},
   "source": [
    "### Start working with the environment"
   ]
  },
  {
   "cell_type": "code",
   "execution_count": 23,
   "metadata": {},
   "outputs": [
    {
     "name": "stdout",
     "output_type": "stream",
     "text": [
      "[ 0.00546104 -0.14586078 -0.0005824   0.25893152]\n",
      "[ 0.00254382  0.04926948  0.00459623 -0.03393505]\n",
      "[ 0.00352921  0.24432522  0.00391753 -0.32516428]\n",
      "[ 0.00841572  0.43939117 -0.00258576 -0.61660922]\n",
      "[ 0.01720354  0.24430544 -0.01491794 -0.32474181]\n",
      "[ 0.02208965  0.04939904 -0.02141278 -0.03680046]\n",
      "[ 0.02307763  0.24482141 -0.02214879 -0.33616168]\n",
      "[ 0.02797406  0.44025144 -0.02887202 -0.63574605]\n",
      "[ 0.03677909  0.24554382 -0.04158694 -0.35229353]\n",
      "[ 0.04168996  0.44123172 -0.04863282 -0.65779462]\n",
      "[ 0.0505146   0.24681923 -0.06178871 -0.3808131 ]\n",
      "[ 0.05545098  0.44276166 -0.06940497 -0.69232019]\n",
      "[ 0.06430621  0.63877438 -0.08325137 -1.00602009]\n",
      "[ 0.0770817   0.44485688 -0.10337178 -0.74059889]\n",
      "[ 0.08597884  0.64124257 -0.11818375 -1.06394214]\n",
      "[ 0.09880369  0.83771364 -0.1394626  -1.39125819]\n",
      "[ 0.11555796  1.03426943 -0.16728776 -1.7240985 ]\n",
      "[ 0.13624335  0.84141048 -0.20176973 -1.48780208]\n",
      "[ 0.15307156  1.03833673 -0.23152577 -1.83611763]\n",
      "Episode finished after 19 timesteps\n"
     ]
    }
   ],
   "source": [
    "env = gym.make('CartPole-v1')\n",
    "env.reset()\n",
    "for t in range(100):\n",
    "    env.render()\n",
    "    action = env.action_space.sample()\n",
    "    observation, reward, done, info = env.step(action)\n",
    "    print(observation)\n",
    "    if done:\n",
    "        print(\"Episode finished after {} timesteps\".format(t+1))\n",
    "        break\n",
    "env.close()"
   ]
  },
  {
   "cell_type": "markdown",
   "metadata": {},
   "source": [
    "### Some simple policies"
   ]
  },
  {
   "cell_type": "markdown",
   "metadata": {},
   "source": [
    "The basic simulation loop is:"
   ]
  },
  {
   "cell_type": "markdown",
   "metadata": {},
   "source": [
    "```\n",
    "state = env.reset()\n",
    "while True:\n",
    "    action = select_action(state)\n",
    "    state, _, done, _ = env.step(action)\n",
    "    env.render()\n",
    "    if done:\n",
    "        break\n",
    "```"
   ]
  },
  {
   "cell_type": "markdown",
   "metadata": {},
   "source": [
    "The environment will ```return done=True``` if either 500 timesteps have elapsed (episode success) or if the pole has fallen over (angular position of the pole has reached +- 12 degrees) or the cart has left the simulation space (cart position has reached +- 2.4), in which case the episode failed.\n",
    "\n",
    "To make the above snippet work, we just have to supply a ```select_action()``` function, which given the state, returns what to do: move the cart left or right."
   ]
  },
  {
   "cell_type": "markdown",
   "metadata": {},
   "source": [
    "* **Random policy**"
   ]
  },
  {
   "cell_type": "code",
   "execution_count": 24,
   "metadata": {},
   "outputs": [],
   "source": [
    "from random import random \n",
    "\n",
    "def select_action_random(state):\n",
    "    if random() < 0.5:\n",
    "        return 0\n",
    "    else:\n",
    "        return 1\n",
    " \n",
    "env = gym.make('CartPole-v0')\n",
    "state = env.reset()\n",
    "while True:\n",
    "    action = select_action_random(state)\n",
    "    state, _, done, _ = env.step(action)\n",
    "    env.render()\n",
    "    if done:\n",
    "        break\n",
    "        \n",
    "env.close()"
   ]
  },
  {
   "cell_type": "markdown",
   "metadata": {},
   "source": [
    "* **Simple policy**: if the pole is falling to the right, let’s move the cart to the right to compensate, and vice versa:"
   ]
  },
  {
   "cell_type": "code",
   "execution_count": 26,
   "metadata": {},
   "outputs": [],
   "source": [
    "def select_action_simple(state):\n",
    "    if state[2] < 0:\n",
    "        return 0\n",
    "    else:\n",
    "        return 1\n",
    " \n",
    "env = gym.make('CartPole-v1')\n",
    "state = env.reset()\n",
    "while True:\n",
    "    action = select_action_simple(state)\n",
    "    state, _, done, _ = env.step(action)\n",
    "    env.render()\n",
    "    if done:\n",
    "        break\n",
    "        \n",
    "env.close()"
   ]
  },
  {
   "cell_type": "markdown",
   "metadata": {},
   "source": [
    "This policy should perform better than the random agent, but how much better? Let’s write a simple function which counts, on average, how far our agent survives (out of 500, as a ratio), and returns the average, a number between 0 and 1, 1 being a perfect score:"
   ]
  },
  {
   "cell_type": "code",
   "execution_count": 27,
   "metadata": {},
   "outputs": [],
   "source": [
    "def goodness_score(select_action, num_episodes=100):\n",
    "    num_steps = 500\n",
    "    ts = []\n",
    "    for episode in range(num_episodes):\n",
    "        state = env.reset()\n",
    "        for t in range(1, num_steps+1):\n",
    "            action = select_action(state)\n",
    "            state, _, done, _ = env.step(action)\n",
    "            if done:\n",
    "                break\n",
    "        ts.append(t)\n",
    "    score = sum(ts) / (len(ts)*num_steps)\n",
    "    return score"
   ]
  },
  {
   "cell_type": "markdown",
   "metadata": {},
   "source": [
    "If we run this for the above 2 test functions, like:"
   ]
  },
  {
   "cell_type": "code",
   "execution_count": 28,
   "metadata": {},
   "outputs": [
    {
     "name": "stdout",
     "output_type": "stream",
     "text": [
      "0.04508\n",
      "0.0858\n"
     ]
    }
   ],
   "source": [
    "env = gym.make('CartPole-v1')\n",
    "\n",
    "print(goodness_score(select_action_random))\n",
    "print(goodness_score(select_action_simple))"
   ]
  },
  {
   "cell_type": "markdown",
   "metadata": {},
   "source": [
    "We see that the random scores 0.04, and simple 0.08. So the simple is better than random, but still very far from 1. Let’s try something better: how about if we also add the angular velocity:"
   ]
  },
  {
   "cell_type": "markdown",
   "metadata": {},
   "source": [
    "* **Policy** involving **position** of the top and the **angular velocity**."
   ]
  },
  {
   "cell_type": "code",
   "execution_count": 29,
   "metadata": {},
   "outputs": [],
   "source": [
    "def select_action_good(state):\n",
    "    if state[2]+state[3] < 0:\n",
    "        return 0\n",
    "    else:\n",
    "        return 1"
   ]
  },
  {
   "cell_type": "code",
   "execution_count": 30,
   "metadata": {},
   "outputs": [],
   "source": [
    "env = gym.make('CartPole-v1')\n",
    "state = env.reset()\n",
    "while True:\n",
    "    action = select_action_good(state)\n",
    "    state, _, done, _ = env.step(action)\n",
    "    env.render()\n",
    "    if done:\n",
    "        break\n",
    "        \n",
    "env.close()"
   ]
  },
  {
   "cell_type": "code",
   "execution_count": 15,
   "metadata": {},
   "outputs": [
    {
     "data": {
      "text/plain": [
       "0.98388"
      ]
     },
     "execution_count": 15,
     "metadata": {},
     "output_type": "execute_result"
    }
   ],
   "source": [
    "env = gym.make('CartPole-v1')\n",
    "goodness_score(select_action_good)"
   ]
  },
  {
   "cell_type": "markdown",
   "metadata": {},
   "source": [
    "Turns out this simple test function solves the problem pretty much perfectly, it gets a score of almost 1.0 (meaning the simulation survives all the way to 500 steps). We got lucky in this problem! "
   ]
  },
  {
   "cell_type": "markdown",
   "metadata": {},
   "source": [
    "* **Deep learning policy**"
   ]
  },
  {
   "cell_type": "markdown",
   "metadata": {},
   "source": [
    "_Disclaimer: This part of teh code is to take a look of how a deep learning policy looks like, we will go through later._"
   ]
  },
  {
   "cell_type": "markdown",
   "metadata": {},
   "source": [
    "Let's build a neural network which will try to guess/learn the ```select_state()``` function above."
   ]
  },
  {
   "cell_type": "markdown",
   "metadata": {},
   "source": [
    "The input state is 4 doubles, and the output is 2 doubles (the probability of going left and right, sum to 1). Since we got lucky above with ```select_action_good()```, we know a small neural network will do, it just has to learn to add the right components:"
   ]
  },
  {
   "cell_type": "code",
   "execution_count": 32,
   "metadata": {},
   "outputs": [],
   "source": [
    "import torch\n",
    "import torch.nn as nn\n",
    "import torch.nn.functional as F\n",
    "import torch.optim as optim\n",
    "from   torch.distributions import Categorical\n",
    "\n",
    "class PolicyNN(nn.Module):\n",
    "    def __init__(self):\n",
    "        super(PolicyNN, self).__init__()\n",
    "        self.fc = nn.Linear(4, 2)\n",
    "\n",
    "    def forward(self, x):\n",
    "        x = self.fc(x)\n",
    "        return F.softmax(x, dim=1)"
   ]
  },
  {
   "cell_type": "markdown",
   "metadata": {},
   "source": [
    "The ```select_action()``` that goes along with the network is:"
   ]
  },
  {
   "cell_type": "code",
   "execution_count": 44,
   "metadata": {},
   "outputs": [],
   "source": [
    "def select_action_from_policy(model, state):\n",
    "    state = torch.from_numpy(state).float().unsqueeze(0)\n",
    "    probs = model(state)\n",
    "    m = Categorical(probs)\n",
    "    action = m.sample()\n",
    "    return action.item(), m.log_prob(action)\n",
    "\n",
    "def select_action_from_policy_best(model, state):\n",
    "    state = torch.from_numpy(state).float().unsqueeze(0)\n",
    "    probs = model(state)\n",
    "    if probs[0][0] > probs[0][1]:\n",
    "        return 0\n",
    "    else:\n",
    "        return 1"
   ]
  },
  {
   "cell_type": "code",
   "execution_count": 45,
   "metadata": {},
   "outputs": [
    {
     "name": "stdout",
     "output_type": "stream",
     "text": [
      "0.03244 0.01858\n"
     ]
    }
   ],
   "source": [
    "model_untrained = PolicyNN()\n",
    "\n",
    "print(\n",
    "    goodness_score(lambda state: select_action_from_policy(model_untrained, state)[0]),\n",
    "    goodness_score(lambda state: select_action_from_policy_best(model_untrained, state))\n",
    ")\n"
   ]
  },
  {
   "cell_type": "markdown",
   "metadata": {},
   "source": [
    "The next question is, how do we train our network? In supervised learning, we train our network on independent samples, and for each sample, we know what the desired response is, and construct a loss function (from some sort of distance-like metric) from that. Here, there is no explicit training data to tell us whether in a given state a right/left prediction was good or bad. But it's actually not that hard to constuct a loss function.\n",
    "\n",
    "Taking a step back, what is our goal in the CartPole environment? The goal is that the agent should survive as long as possible, 500 steps in this simulation. So as a first idea, we could simply try to use the ```(1 - t/500)``` normalized length of the simulation (how far the agent got) as a loss function. Then we can use gradient descent to search for a minimum of the loss function (maximum length of simulation). \n",
    "However, this won't work. The problem is, ```t``` is a book keeping int variable, it's not a Pytorch variable. It's not derived from (not a function of) the neural network's output, so we can't take the derivative of it (with respect ```t``` or the network's weights).\n",
    "But from the above idea, we can get something that works. At each timestep, let's say that the reward is how long the simulation survived after the timestep, multiplied by the network's output that we took (left/right probability). The loss is the negative sum of all rewards. This sounds good, because: (i) the global minimum of the this loss will be when the agent survives all the way, and takes the moves that lead there with 1 probability (ii) it's a function of the network's outputs (the probabilities)."
   ]
  },
  {
   "cell_type": "code",
   "execution_count": 47,
   "metadata": {},
   "outputs": [
    {
     "name": "stdout",
     "output_type": "stream",
     "text": [
      "Stopping training, looks good...\n"
     ]
    }
   ],
   "source": [
    "model = PolicyNN()\n",
    "optimizer = optim.Adam(model.parameters(), lr=0.01)\n",
    "\n",
    "def train_simple(num_episodes=10*1000):\n",
    "    num_steps = 500\n",
    "    ts = []\n",
    "    for episode in range(num_episodes):\n",
    "        state = env.reset()\n",
    "        probs = []\n",
    "        for t in range(1, num_steps+1):\n",
    "            action, prob = select_action_from_policy(model, state)\n",
    "            probs.append(prob)\n",
    "            state, _, done, _ = env.step(action)\n",
    "            if done:\n",
    "                break\n",
    "        # loss = 1.0 - t / num_steps\n",
    "        # this doesn't actually work, because\n",
    "        # the loss function is not an explicit\n",
    "        # function of the model's output; it's\n",
    "        # a function of book keeping variables\n",
    "        loss = 0\n",
    "        for i, prob in enumerate(probs):\n",
    "            loss += -1 * (t - i) * prob\n",
    "        #print(episode, t, loss.item())\n",
    "        optimizer.zero_grad()\n",
    "        loss.backward()\n",
    "        optimizer.step()\n",
    "        ts.append(t)\n",
    "        # check stopping condition:\n",
    "        if len(ts) > 10 and sum(ts[-10:])/10.0 >= num_steps * 0.95:\n",
    "            print('Stopping training, looks good...')\n",
    "            return\n",
    "env = gym.make('CartPole-v1')\n",
    "train_simple()"
   ]
  },
  {
   "cell_type": "code",
   "execution_count": 36,
   "metadata": {},
   "outputs": [
    {
     "name": "stdout",
     "output_type": "stream",
     "text": [
      "0.85808 1.0\n"
     ]
    }
   ],
   "source": [
    "print(\n",
    "    goodness_score(lambda state: select_action_from_policy(model, state)[0]),\n",
    "    goodness_score(lambda state: select_action_from_policy_best(model, state))\n",
    ")"
   ]
  },
  {
   "cell_type": "code",
   "execution_count": 49,
   "metadata": {},
   "outputs": [],
   "source": [
    "env = gym.make('CartPole-v0')\n",
    "state = env.reset()\n",
    "while True:\n",
    "    action = select_action_from_policy_best(model, state)\n",
    "    state, _, done, _ = env.step(action)\n",
    "    env.render()\n",
    "    if done:\n",
    "        break\n",
    "        \n",
    "env.close()"
   ]
  }
 ],
 "metadata": {
  "kernelspec": {
   "display_name": "Python 3",
   "language": "python",
   "name": "python3"
  },
  "language_info": {
   "codemirror_mode": {
    "name": "ipython",
    "version": 3
   },
   "file_extension": ".py",
   "mimetype": "text/x-python",
   "name": "python",
   "nbconvert_exporter": "python",
   "pygments_lexer": "ipython3",
   "version": "3.7.7"
  }
 },
 "nbformat": 4,
 "nbformat_minor": 4
}
